{
 "cells": [
  {
   "cell_type": "markdown",
   "id": "2eaf369f",
   "metadata": {},
   "source": [
    "### Your lab resolution :"
   ]
  },
  {
   "cell_type": "code",
   "execution_count": 112,
   "id": "3ce97339",
   "metadata": {},
   "outputs": [
    {
     "data": {
      "text/plain": [
       "<Response [200]>"
      ]
     },
     "execution_count": 112,
     "metadata": {},
     "output_type": "execute_result"
    }
   ],
   "source": [
    "import requests\n",
    "import pandas as pd\n",
    "from pandas.io.json import json_normalize\n",
    "\n",
    "#For obvious reasons, being this an open file, I take away my login data.\n",
    "#I commented the results in order to share the file without running it.\n",
    "username = \n",
    "token = \n",
    "\n",
    "github = requests.get(\"https://api.github.com/users/ta-data-pt-rmt/repos?per_page=100\", auth=(username,token))\n",
    "github"
   ]
  },
  {
   "cell_type": "code",
   "execution_count": null,
   "id": "8cfe1e90",
   "metadata": {},
   "outputs": [],
   "source": [
    "#Challenge 1"
   ]
  },
  {
   "cell_type": "code",
   "execution_count": 113,
   "id": "b273f54c",
   "metadata": {},
   "outputs": [],
   "source": [
    "repos = github.json()\n",
    "#repos"
   ]
  },
  {
   "cell_type": "code",
   "execution_count": 114,
   "id": "dc0cc7a5",
   "metadata": {},
   "outputs": [
    {
     "name": "stdout",
     "output_type": "stream",
     "text": [
      "Total forks: 435\n",
      "Total projects: 50\n",
      "Used Languages: \n",
      "None, Jupyter Notebook, Python\n"
     ]
    }
   ],
   "source": [
    "##Results for all forked projects from TA-DATA-PT-RMT\n",
    "\n",
    "Languages = []\n",
    "count = 0\n",
    "count2 = 0\n",
    "for item in repos:\n",
    "    url2 = item[\"forks_url\"]\n",
    "    forks = requests.get(url2, auth=(username,token))\n",
    "    forks2 = forks.json()\n",
    "    #print(item[\"name\"])\n",
    "    count2 +=1\n",
    "    for element in forks2:\n",
    "        #print(element[\"language\"])\n",
    "        count +=1\n",
    "        if element[\"language\"] not in Languages:\n",
    "            Languages.append(element[\"language\"])\n",
    "\n",
    "print(\"Total forks: \"+str(count))\n",
    "print(\"Total projects: \"+str(count2))\n",
    "print(\"Used Languages: \")\n",
    "print(*Languages, sep = \", \")\n",
    "\n",
    "#Total forks: 435\n",
    "#Total projects: 50\n",
    "#Used Languages: \n",
    "#None, Jupyter Notebook, Python"
   ]
  },
  {
   "cell_type": "code",
   "execution_count": 142,
   "id": "ac3a650c",
   "metadata": {},
   "outputs": [
    {
     "name": "stdout",
     "output_type": "stream",
     "text": [
      "Total projects: 21\n",
      "Used Languages: \n",
      "None, Jupyter Notebook, Python\n"
     ]
    }
   ],
   "source": [
    "#Same as before, but just using my own repositories. No forks here...\n",
    "\n",
    "My_github = requests.get(\"https://api.github.com/users/jadcarpan/repos?per_page=100\", auth=(username,token))\n",
    "My_repos = My_github.json()\n",
    "My_languages = []\n",
    "count3 = 0\n",
    "for item in My_repos:\n",
    "    count3 +=1\n",
    "    if item[\"language\"] not in My_languages:\n",
    "        My_languages.append(item[\"language\"])\n",
    "        \n",
    "print(\"Total projects: \"+str(count3))\n",
    "print(\"Used Languages: \")\n",
    "print(*My_languages,sep = \", \")\n",
    "\n",
    "\n",
    "#Total projects: 21\n",
    "#Used Languages: \n",
    "#None, Jupyter Notebook, Python\n"
   ]
  },
  {
   "cell_type": "code",
   "execution_count": null,
   "id": "39f503ac",
   "metadata": {},
   "outputs": [],
   "source": [
    "#Challenge 2"
   ]
  },
  {
   "cell_type": "code",
   "execution_count": 141,
   "id": "6b12605a",
   "metadata": {},
   "outputs": [
    {
     "data": {
      "text/plain": [
       "<Response [200]>"
      ]
     },
     "execution_count": 141,
     "metadata": {},
     "output_type": "execute_result"
    }
   ],
   "source": [
    "web = requests.get(\"https://api.github.com/users/ta-data-pt-rmt/repos\", auth=(username,token))\n",
    "web"
   ]
  },
  {
   "cell_type": "code",
   "execution_count": 172,
   "id": "b93a0fd3",
   "metadata": {},
   "outputs": [
    {
     "name": "stdout",
     "output_type": "stream",
     "text": [
      "3\n"
     ]
    }
   ],
   "source": [
    "web_commits = web.json()\n",
    "web_commits\n",
    "labs = []\n",
    "for item in web_commits:\n",
    "    labs.append(item[\"commits_url\"])\n",
    "labs\n",
    "#This way I can select the right path to the right repo and continue with it below\n",
    "\n",
    "#To get some results, I tracked the activity up to the beginning of the Bootcamp instead of using just 2 weeks (0 commits)\n",
    "commits1 = requests.get(\"https://api.github.com/repos/ta-data-pt-rmt/lab-mysql-first-queries/commits?since=2022-02-22T00:00:01Z\", auth=(username,token))\n",
    "commit = commits1.json()\n",
    "commit\n",
    "number = 0\n",
    "for item in commit:\n",
    "    number += 1\n",
    "    \n",
    "print(number)\n",
    "#result = 3"
   ]
  },
  {
   "cell_type": "code",
   "execution_count": null,
   "id": "e5a5b9cb",
   "metadata": {},
   "outputs": [],
   "source": []
  }
 ],
 "metadata": {
  "kernelspec": {
   "display_name": "Python 3 (ipykernel)",
   "language": "python",
   "name": "python3"
  },
  "language_info": {
   "codemirror_mode": {
    "name": "ipython",
    "version": 3
   },
   "file_extension": ".py",
   "mimetype": "text/x-python",
   "name": "python",
   "nbconvert_exporter": "python",
   "pygments_lexer": "ipython3",
   "version": "3.9.7"
  }
 },
 "nbformat": 4,
 "nbformat_minor": 5
}
